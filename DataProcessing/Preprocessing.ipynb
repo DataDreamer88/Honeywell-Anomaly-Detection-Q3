{
 "cells": [
  {
   "cell_type": "markdown",
   "id": "47f66621",
   "metadata": {},
   "source": [
    "# Importing Libraries"
   ]
  },
  {
   "cell_type": "code",
   "execution_count": 1,
   "id": "d5b8741a",
   "metadata": {},
   "outputs": [],
   "source": [
    "import numpy as np \n",
    "import matplotlib.pyplot as plt \n",
    "import pandas as pd \n"
   ]
  },
  {
   "cell_type": "code",
   "execution_count": 3,
   "id": "6a02ec02",
   "metadata": {},
   "outputs": [
    {
     "name": "stderr",
     "output_type": "stream",
     "text": [
      "C:\\Users\\swapn\\AppData\\Local\\Temp\\ipykernel_19424\\474017258.py:2: DtypeWarning: Columns (57) have mixed types. Specify dtype option on import or set low_memory=False.\n",
      "  df = pd.read_csv(r\"G:\\Projects\\honeywell\\Anomalyze\\Labelled Data\\Master_Labeled.csv\")\n"
     ]
    }
   ],
   "source": [
    "\n",
    "# reading the csv for values\n",
    "df = pd.read_csv(r\"G:\\Projects\\honeywell\\Anomalyze\\Labelled Data\\Master_Labeled.csv\")\n"
   ]
  },
  {
   "cell_type": "code",
   "execution_count": 4,
   "id": "f1156c95",
   "metadata": {},
   "outputs": [],
   "source": [
    "# Rule 1: If Anomaly == 0 and Parameter for Anomaly is empty → set to \"No Anomaly\"\n",
    "df.loc[(df[\"Anomaly\"] == 0) & (df[\"Parameter for Anomaly\"].isna()), \"Parameter for Anomaly\"] = \"No Anomaly\""
   ]
  },
  {
   "cell_type": "code",
   "execution_count": 5,
   "id": "f04ef4bc",
   "metadata": {},
   "outputs": [],
   "source": [
    "# Rule 2: If Anomaly != 0 and Parameter for Anomaly is empty → drop row\n",
    "df = df[~((df[\"Anomaly\"] != 0) & (df[\"Parameter for Anomaly\"].isna()))]"
   ]
  },
  {
   "cell_type": "code",
   "execution_count": null,
   "id": "659c407f",
   "metadata": {},
   "outputs": [],
   "source": [
    "df.to_csv(\"exported_data.csv\", index=False)"
   ]
  }
 ],
 "metadata": {
  "kernelspec": {
   "display_name": "Python 3",
   "language": "python",
   "name": "python3"
  },
  "language_info": {
   "codemirror_mode": {
    "name": "ipython",
    "version": 3
   },
   "file_extension": ".py",
   "mimetype": "text/x-python",
   "name": "python",
   "nbconvert_exporter": "python",
   "pygments_lexer": "ipython3",
   "version": "3.11.5"
  }
 },
 "nbformat": 4,
 "nbformat_minor": 5
}
